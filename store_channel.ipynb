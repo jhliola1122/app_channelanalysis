{
 "cells": [
  {
   "cell_type": "code",
   "execution_count": 1,
   "id": "b710a373",
   "metadata": {},
   "outputs": [],
   "source": [
    "import pandas as pd"
   ]
  },
  {
   "cell_type": "code",
   "execution_count": 41,
   "id": "156ff759",
   "metadata": {},
   "outputs": [],
   "source": [
    "store = pd.read_csv('store_rev.csv',index_col=0)"
   ]
  },
  {
   "cell_type": "code",
   "execution_count": 5,
   "id": "6af15b6e",
   "metadata": {},
   "outputs": [
    {
     "name": "stdout",
     "output_type": "stream",
     "text": [
      "<class 'pandas.core.frame.DataFrame'>\n",
      "Int64Index: 985 entries, 845 to 26\n",
      "Data columns (total 7 columns):\n",
      " #   Column    Non-Null Count  Dtype  \n",
      "---  ------    --------------  -----  \n",
      " 0   revenue   985 non-null    float64\n",
      " 1   reach     985 non-null    int64  \n",
      " 2   local_tv  929 non-null    float64\n",
      " 3   online    985 non-null    int64  \n",
      " 4   instore   985 non-null    int64  \n",
      " 5   person    985 non-null    int64  \n",
      " 6   event     985 non-null    object \n",
      "dtypes: float64(2), int64(4), object(1)\n",
      "memory usage: 61.6+ KB\n"
     ]
    }
   ],
   "source": [
    "store.info()\n",
    "#发现local_TV有空值\n",
    "#发现event为类别型变量object"
   ]
  },
  {
   "cell_type": "code",
   "execution_count": 42,
   "id": "67057634",
   "metadata": {},
   "outputs": [
    {
     "data": {
      "text/plain": [
       "revenue      0\n",
       "reach        0\n",
       "local_tv    56\n",
       "online       0\n",
       "instore      0\n",
       "person       0\n",
       "event        0\n",
       "dtype: int64"
      ]
     },
     "execution_count": 42,
     "metadata": {},
     "output_type": "execute_result"
    }
   ],
   "source": [
    "store.isnull().sum()"
   ]
  },
  {
   "cell_type": "code",
   "execution_count": 43,
   "id": "159ae382",
   "metadata": {},
   "outputs": [],
   "source": [
    "#处理缺失值，填充均值\n",
    "store = store.fillna(store.local_tv.mean())"
   ]
  },
  {
   "cell_type": "code",
   "execution_count": 45,
   "id": "706377b4",
   "metadata": {},
   "outputs": [
    {
     "data": {
      "text/plain": [
       "revenue     0\n",
       "reach       0\n",
       "local_tv    0\n",
       "online      0\n",
       "instore     0\n",
       "person      0\n",
       "event       0\n",
       "dtype: int64"
      ]
     },
     "execution_count": 45,
     "metadata": {},
     "output_type": "execute_result"
    }
   ],
   "source": [
    "store.isnull().sum()"
   ]
  },
  {
   "cell_type": "code",
   "execution_count": 8,
   "id": "fd80ba37",
   "metadata": {},
   "outputs": [
    {
     "data": {
      "text/html": [
       "<div>\n",
       "<style scoped>\n",
       "    .dataframe tbody tr th:only-of-type {\n",
       "        vertical-align: middle;\n",
       "    }\n",
       "\n",
       "    .dataframe tbody tr th {\n",
       "        vertical-align: top;\n",
       "    }\n",
       "\n",
       "    .dataframe thead th {\n",
       "        text-align: right;\n",
       "    }\n",
       "</style>\n",
       "<table border=\"1\" class=\"dataframe\">\n",
       "  <thead>\n",
       "    <tr style=\"text-align: right;\">\n",
       "      <th></th>\n",
       "      <th>revenue</th>\n",
       "      <th>reach</th>\n",
       "      <th>local_tv</th>\n",
       "      <th>online</th>\n",
       "      <th>instore</th>\n",
       "      <th>person</th>\n",
       "    </tr>\n",
       "  </thead>\n",
       "  <tbody>\n",
       "    <tr>\n",
       "      <th>count</th>\n",
       "      <td>985.000000</td>\n",
       "      <td>985.000000</td>\n",
       "      <td>929.000000</td>\n",
       "      <td>985.000000</td>\n",
       "      <td>985.000000</td>\n",
       "      <td>985.000000</td>\n",
       "    </tr>\n",
       "    <tr>\n",
       "      <th>mean</th>\n",
       "      <td>38357.355025</td>\n",
       "      <td>3.395939</td>\n",
       "      <td>31324.061109</td>\n",
       "      <td>1596.527919</td>\n",
       "      <td>3350.962437</td>\n",
       "      <td>11.053807</td>\n",
       "    </tr>\n",
       "    <tr>\n",
       "      <th>std</th>\n",
       "      <td>11675.603883</td>\n",
       "      <td>1.011913</td>\n",
       "      <td>3970.934733</td>\n",
       "      <td>496.131586</td>\n",
       "      <td>976.546381</td>\n",
       "      <td>3.041740</td>\n",
       "    </tr>\n",
       "    <tr>\n",
       "      <th>min</th>\n",
       "      <td>5000.000000</td>\n",
       "      <td>0.000000</td>\n",
       "      <td>20000.000000</td>\n",
       "      <td>0.000000</td>\n",
       "      <td>0.000000</td>\n",
       "      <td>0.000000</td>\n",
       "    </tr>\n",
       "    <tr>\n",
       "      <th>25%</th>\n",
       "      <td>30223.600000</td>\n",
       "      <td>3.000000</td>\n",
       "      <td>28733.830000</td>\n",
       "      <td>1253.000000</td>\n",
       "      <td>2690.000000</td>\n",
       "      <td>9.000000</td>\n",
       "    </tr>\n",
       "    <tr>\n",
       "      <th>50%</th>\n",
       "      <td>38159.110000</td>\n",
       "      <td>3.000000</td>\n",
       "      <td>31104.520000</td>\n",
       "      <td>1607.000000</td>\n",
       "      <td>3351.000000</td>\n",
       "      <td>11.000000</td>\n",
       "    </tr>\n",
       "    <tr>\n",
       "      <th>75%</th>\n",
       "      <td>45826.520000</td>\n",
       "      <td>4.000000</td>\n",
       "      <td>33972.410000</td>\n",
       "      <td>1921.000000</td>\n",
       "      <td>4011.000000</td>\n",
       "      <td>13.000000</td>\n",
       "    </tr>\n",
       "    <tr>\n",
       "      <th>max</th>\n",
       "      <td>79342.070000</td>\n",
       "      <td>7.000000</td>\n",
       "      <td>43676.900000</td>\n",
       "      <td>3280.000000</td>\n",
       "      <td>6489.000000</td>\n",
       "      <td>24.000000</td>\n",
       "    </tr>\n",
       "  </tbody>\n",
       "</table>\n",
       "</div>"
      ],
      "text/plain": [
       "            revenue       reach      local_tv       online      instore  \\\n",
       "count    985.000000  985.000000    929.000000   985.000000   985.000000   \n",
       "mean   38357.355025    3.395939  31324.061109  1596.527919  3350.962437   \n",
       "std    11675.603883    1.011913   3970.934733   496.131586   976.546381   \n",
       "min     5000.000000    0.000000  20000.000000     0.000000     0.000000   \n",
       "25%    30223.600000    3.000000  28733.830000  1253.000000  2690.000000   \n",
       "50%    38159.110000    3.000000  31104.520000  1607.000000  3351.000000   \n",
       "75%    45826.520000    4.000000  33972.410000  1921.000000  4011.000000   \n",
       "max    79342.070000    7.000000  43676.900000  3280.000000  6489.000000   \n",
       "\n",
       "           person  \n",
       "count  985.000000  \n",
       "mean    11.053807  \n",
       "std      3.041740  \n",
       "min      0.000000  \n",
       "25%      9.000000  \n",
       "50%     11.000000  \n",
       "75%     13.000000  \n",
       "max     24.000000  "
      ]
     },
     "execution_count": 8,
     "metadata": {},
     "output_type": "execute_result"
    }
   ],
   "source": [
    "#数据分布\n",
    "store.describe()"
   ]
  },
  {
   "cell_type": "code",
   "execution_count": 9,
   "id": "ac32530d",
   "metadata": {},
   "outputs": [
    {
     "data": {
      "text/plain": [
       "array(['non_event', 'special', 'cobranding', 'holiday'], dtype=object)"
      ]
     },
     "execution_count": 9,
     "metadata": {},
     "output_type": "execute_result"
    }
   ],
   "source": [
    "#了解event具体值\n",
    "store.event.unique()"
   ]
  },
  {
   "cell_type": "code",
   "execution_count": 10,
   "id": "06892d45",
   "metadata": {},
   "outputs": [
    {
     "data": {
      "text/html": [
       "<div>\n",
       "<style scoped>\n",
       "    .dataframe tbody tr th:only-of-type {\n",
       "        vertical-align: middle;\n",
       "    }\n",
       "\n",
       "    .dataframe tbody tr th {\n",
       "        vertical-align: top;\n",
       "    }\n",
       "\n",
       "    .dataframe thead th {\n",
       "        text-align: right;\n",
       "    }\n",
       "</style>\n",
       "<table border=\"1\" class=\"dataframe\">\n",
       "  <thead>\n",
       "    <tr style=\"text-align: right;\">\n",
       "      <th></th>\n",
       "      <th>count</th>\n",
       "      <th>mean</th>\n",
       "      <th>std</th>\n",
       "      <th>min</th>\n",
       "      <th>25%</th>\n",
       "      <th>50%</th>\n",
       "      <th>75%</th>\n",
       "      <th>max</th>\n",
       "    </tr>\n",
       "    <tr>\n",
       "      <th>event</th>\n",
       "      <th></th>\n",
       "      <th></th>\n",
       "      <th></th>\n",
       "      <th></th>\n",
       "      <th></th>\n",
       "      <th></th>\n",
       "      <th></th>\n",
       "      <th></th>\n",
       "    </tr>\n",
       "  </thead>\n",
       "  <tbody>\n",
       "    <tr>\n",
       "      <th>cobranding</th>\n",
       "      <td>398.0</td>\n",
       "      <td>38277.664497</td>\n",
       "      <td>11879.097324</td>\n",
       "      <td>7146.99</td>\n",
       "      <td>30472.1525</td>\n",
       "      <td>37864.155</td>\n",
       "      <td>46333.5600</td>\n",
       "      <td>79342.07</td>\n",
       "    </tr>\n",
       "    <tr>\n",
       "      <th>holiday</th>\n",
       "      <td>103.0</td>\n",
       "      <td>37791.890583</td>\n",
       "      <td>11942.369136</td>\n",
       "      <td>5000.00</td>\n",
       "      <td>29644.5250</td>\n",
       "      <td>38432.780</td>\n",
       "      <td>46036.1300</td>\n",
       "      <td>73377.15</td>\n",
       "    </tr>\n",
       "    <tr>\n",
       "      <th>non_event</th>\n",
       "      <td>192.0</td>\n",
       "      <td>37903.081562</td>\n",
       "      <td>11186.436740</td>\n",
       "      <td>6874.43</td>\n",
       "      <td>29852.3775</td>\n",
       "      <td>37937.175</td>\n",
       "      <td>44611.6375</td>\n",
       "      <td>69429.39</td>\n",
       "    </tr>\n",
       "    <tr>\n",
       "      <th>special</th>\n",
       "      <td>292.0</td>\n",
       "      <td>38964.136438</td>\n",
       "      <td>11648.616882</td>\n",
       "      <td>10207.96</td>\n",
       "      <td>30325.8125</td>\n",
       "      <td>39197.870</td>\n",
       "      <td>45897.0400</td>\n",
       "      <td>71757.50</td>\n",
       "    </tr>\n",
       "  </tbody>\n",
       "</table>\n",
       "</div>"
      ],
      "text/plain": [
       "            count          mean           std       min         25%  \\\n",
       "event                                                                 \n",
       "cobranding  398.0  38277.664497  11879.097324   7146.99  30472.1525   \n",
       "holiday     103.0  37791.890583  11942.369136   5000.00  29644.5250   \n",
       "non_event   192.0  37903.081562  11186.436740   6874.43  29852.3775   \n",
       "special     292.0  38964.136438  11648.616882  10207.96  30325.8125   \n",
       "\n",
       "                  50%         75%       max  \n",
       "event                                        \n",
       "cobranding  37864.155  46333.5600  79342.07  \n",
       "holiday     38432.780  46036.1300  73377.15  \n",
       "non_event   37937.175  44611.6375  69429.39  \n",
       "special     39197.870  45897.0400  71757.50  "
      ]
     },
     "execution_count": 10,
     "metadata": {},
     "output_type": "execute_result"
    }
   ],
   "source": [
    "#revenue groupby event\n",
    "store.groupby(['event'])['revenue'].describe()"
   ]
  },
  {
   "cell_type": "code",
   "execution_count": 11,
   "id": "3d6fd153",
   "metadata": {},
   "outputs": [
    {
     "data": {
      "text/html": [
       "<div>\n",
       "<style scoped>\n",
       "    .dataframe tbody tr th:only-of-type {\n",
       "        vertical-align: middle;\n",
       "    }\n",
       "\n",
       "    .dataframe tbody tr th {\n",
       "        vertical-align: top;\n",
       "    }\n",
       "\n",
       "    .dataframe thead th {\n",
       "        text-align: right;\n",
       "    }\n",
       "</style>\n",
       "<table border=\"1\" class=\"dataframe\">\n",
       "  <thead>\n",
       "    <tr style=\"text-align: right;\">\n",
       "      <th></th>\n",
       "      <th>count</th>\n",
       "      <th>mean</th>\n",
       "      <th>std</th>\n",
       "      <th>min</th>\n",
       "      <th>25%</th>\n",
       "      <th>50%</th>\n",
       "      <th>75%</th>\n",
       "      <th>max</th>\n",
       "    </tr>\n",
       "    <tr>\n",
       "      <th>event</th>\n",
       "      <th></th>\n",
       "      <th></th>\n",
       "      <th></th>\n",
       "      <th></th>\n",
       "      <th></th>\n",
       "      <th></th>\n",
       "      <th></th>\n",
       "      <th></th>\n",
       "    </tr>\n",
       "  </thead>\n",
       "  <tbody>\n",
       "    <tr>\n",
       "      <th>cobranding</th>\n",
       "      <td>376.0</td>\n",
       "      <td>31424.590186</td>\n",
       "      <td>3951.049566</td>\n",
       "      <td>21252.35</td>\n",
       "      <td>28746.9725</td>\n",
       "      <td>31336.570</td>\n",
       "      <td>33839.0200</td>\n",
       "      <td>42162.64</td>\n",
       "    </tr>\n",
       "    <tr>\n",
       "      <th>holiday</th>\n",
       "      <td>96.0</td>\n",
       "      <td>30860.524896</td>\n",
       "      <td>4448.719364</td>\n",
       "      <td>21792.84</td>\n",
       "      <td>27769.6000</td>\n",
       "      <td>30564.705</td>\n",
       "      <td>33595.5975</td>\n",
       "      <td>41047.01</td>\n",
       "    </tr>\n",
       "    <tr>\n",
       "      <th>non_event</th>\n",
       "      <td>182.0</td>\n",
       "      <td>31415.197527</td>\n",
       "      <td>3952.155383</td>\n",
       "      <td>20000.00</td>\n",
       "      <td>29222.5875</td>\n",
       "      <td>31238.235</td>\n",
       "      <td>34386.0825</td>\n",
       "      <td>42069.84</td>\n",
       "    </tr>\n",
       "    <tr>\n",
       "      <th>special</th>\n",
       "      <td>275.0</td>\n",
       "      <td>31288.110982</td>\n",
       "      <td>3842.412128</td>\n",
       "      <td>21428.20</td>\n",
       "      <td>28668.7100</td>\n",
       "      <td>30921.790</td>\n",
       "      <td>34105.6250</td>\n",
       "      <td>43676.90</td>\n",
       "    </tr>\n",
       "  </tbody>\n",
       "</table>\n",
       "</div>"
      ],
      "text/plain": [
       "            count          mean          std       min         25%        50%  \\\n",
       "event                                                                           \n",
       "cobranding  376.0  31424.590186  3951.049566  21252.35  28746.9725  31336.570   \n",
       "holiday      96.0  30860.524896  4448.719364  21792.84  27769.6000  30564.705   \n",
       "non_event   182.0  31415.197527  3952.155383  20000.00  29222.5875  31238.235   \n",
       "special     275.0  31288.110982  3842.412128  21428.20  28668.7100  30921.790   \n",
       "\n",
       "                   75%       max  \n",
       "event                             \n",
       "cobranding  33839.0200  42162.64  \n",
       "holiday     33595.5975  41047.01  \n",
       "non_event   34386.0825  42069.84  \n",
       "special     34105.6250  43676.90  "
      ]
     },
     "execution_count": 11,
     "metadata": {},
     "output_type": "execute_result"
    }
   ],
   "source": [
    "#local_tv groupby event\n",
    "store.groupby(['event'])['local_tv'].describe()"
   ]
  },
  {
   "cell_type": "code",
   "execution_count": 12,
   "id": "699e5341",
   "metadata": {},
   "outputs": [
    {
     "data": {
      "text/html": [
       "<div>\n",
       "<style scoped>\n",
       "    .dataframe tbody tr th:only-of-type {\n",
       "        vertical-align: middle;\n",
       "    }\n",
       "\n",
       "    .dataframe tbody tr th {\n",
       "        vertical-align: top;\n",
       "    }\n",
       "\n",
       "    .dataframe thead th {\n",
       "        text-align: right;\n",
       "    }\n",
       "</style>\n",
       "<table border=\"1\" class=\"dataframe\">\n",
       "  <thead>\n",
       "    <tr style=\"text-align: right;\">\n",
       "      <th></th>\n",
       "      <th>count</th>\n",
       "      <th>mean</th>\n",
       "      <th>std</th>\n",
       "      <th>min</th>\n",
       "      <th>25%</th>\n",
       "      <th>50%</th>\n",
       "      <th>75%</th>\n",
       "      <th>max</th>\n",
       "    </tr>\n",
       "    <tr>\n",
       "      <th>event</th>\n",
       "      <th></th>\n",
       "      <th></th>\n",
       "      <th></th>\n",
       "      <th></th>\n",
       "      <th></th>\n",
       "      <th></th>\n",
       "      <th></th>\n",
       "      <th></th>\n",
       "    </tr>\n",
       "  </thead>\n",
       "  <tbody>\n",
       "    <tr>\n",
       "      <th>cobranding</th>\n",
       "      <td>398.0</td>\n",
       "      <td>1581.685930</td>\n",
       "      <td>495.166150</td>\n",
       "      <td>0.0</td>\n",
       "      <td>1239.50</td>\n",
       "      <td>1588.5</td>\n",
       "      <td>1913.00</td>\n",
       "      <td>3280.0</td>\n",
       "    </tr>\n",
       "    <tr>\n",
       "      <th>holiday</th>\n",
       "      <td>103.0</td>\n",
       "      <td>1569.543689</td>\n",
       "      <td>474.743001</td>\n",
       "      <td>217.0</td>\n",
       "      <td>1262.50</td>\n",
       "      <td>1535.0</td>\n",
       "      <td>1910.50</td>\n",
       "      <td>2628.0</td>\n",
       "    </tr>\n",
       "    <tr>\n",
       "      <th>non_event</th>\n",
       "      <td>192.0</td>\n",
       "      <td>1575.781250</td>\n",
       "      <td>501.246294</td>\n",
       "      <td>343.0</td>\n",
       "      <td>1230.00</td>\n",
       "      <td>1618.0</td>\n",
       "      <td>1932.25</td>\n",
       "      <td>2924.0</td>\n",
       "    </tr>\n",
       "    <tr>\n",
       "      <th>special</th>\n",
       "      <td>292.0</td>\n",
       "      <td>1639.917808</td>\n",
       "      <td>501.186626</td>\n",
       "      <td>319.0</td>\n",
       "      <td>1308.25</td>\n",
       "      <td>1650.0</td>\n",
       "      <td>1929.00</td>\n",
       "      <td>3105.0</td>\n",
       "    </tr>\n",
       "  </tbody>\n",
       "</table>\n",
       "</div>"
      ],
      "text/plain": [
       "            count         mean         std    min      25%     50%      75%  \\\n",
       "event                                                                         \n",
       "cobranding  398.0  1581.685930  495.166150    0.0  1239.50  1588.5  1913.00   \n",
       "holiday     103.0  1569.543689  474.743001  217.0  1262.50  1535.0  1910.50   \n",
       "non_event   192.0  1575.781250  501.246294  343.0  1230.00  1618.0  1932.25   \n",
       "special     292.0  1639.917808  501.186626  319.0  1308.25  1650.0  1929.00   \n",
       "\n",
       "               max  \n",
       "event               \n",
       "cobranding  3280.0  \n",
       "holiday     2628.0  \n",
       "non_event   2924.0  \n",
       "special     3105.0  "
      ]
     },
     "execution_count": 12,
     "metadata": {},
     "output_type": "execute_result"
    }
   ],
   "source": [
    "#online groupby event\n",
    "store.groupby(['event'])['online'].describe()"
   ]
  },
  {
   "cell_type": "code",
   "execution_count": 13,
   "id": "f77f6bee",
   "metadata": {},
   "outputs": [
    {
     "data": {
      "text/html": [
       "<div>\n",
       "<style scoped>\n",
       "    .dataframe tbody tr th:only-of-type {\n",
       "        vertical-align: middle;\n",
       "    }\n",
       "\n",
       "    .dataframe tbody tr th {\n",
       "        vertical-align: top;\n",
       "    }\n",
       "\n",
       "    .dataframe thead th {\n",
       "        text-align: right;\n",
       "    }\n",
       "</style>\n",
       "<table border=\"1\" class=\"dataframe\">\n",
       "  <thead>\n",
       "    <tr style=\"text-align: right;\">\n",
       "      <th></th>\n",
       "      <th>count</th>\n",
       "      <th>mean</th>\n",
       "      <th>std</th>\n",
       "      <th>min</th>\n",
       "      <th>25%</th>\n",
       "      <th>50%</th>\n",
       "      <th>75%</th>\n",
       "      <th>max</th>\n",
       "    </tr>\n",
       "    <tr>\n",
       "      <th>event</th>\n",
       "      <th></th>\n",
       "      <th></th>\n",
       "      <th></th>\n",
       "      <th></th>\n",
       "      <th></th>\n",
       "      <th></th>\n",
       "      <th></th>\n",
       "      <th></th>\n",
       "    </tr>\n",
       "  </thead>\n",
       "  <tbody>\n",
       "    <tr>\n",
       "      <th>cobranding</th>\n",
       "      <td>398.0</td>\n",
       "      <td>3282.537688</td>\n",
       "      <td>1011.834176</td>\n",
       "      <td>0.0</td>\n",
       "      <td>2556.00</td>\n",
       "      <td>3273.0</td>\n",
       "      <td>3991.75</td>\n",
       "      <td>6464.0</td>\n",
       "    </tr>\n",
       "    <tr>\n",
       "      <th>holiday</th>\n",
       "      <td>103.0</td>\n",
       "      <td>3482.242718</td>\n",
       "      <td>979.687240</td>\n",
       "      <td>684.0</td>\n",
       "      <td>2953.00</td>\n",
       "      <td>3517.0</td>\n",
       "      <td>4190.00</td>\n",
       "      <td>5572.0</td>\n",
       "    </tr>\n",
       "    <tr>\n",
       "      <th>non_event</th>\n",
       "      <td>192.0</td>\n",
       "      <td>3381.697917</td>\n",
       "      <td>1000.702032</td>\n",
       "      <td>569.0</td>\n",
       "      <td>2685.75</td>\n",
       "      <td>3341.0</td>\n",
       "      <td>4050.00</td>\n",
       "      <td>5893.0</td>\n",
       "    </tr>\n",
       "    <tr>\n",
       "      <th>special</th>\n",
       "      <td>292.0</td>\n",
       "      <td>3377.708904</td>\n",
       "      <td>905.760917</td>\n",
       "      <td>1024.0</td>\n",
       "      <td>2795.75</td>\n",
       "      <td>3408.0</td>\n",
       "      <td>3968.25</td>\n",
       "      <td>6489.0</td>\n",
       "    </tr>\n",
       "  </tbody>\n",
       "</table>\n",
       "</div>"
      ],
      "text/plain": [
       "            count         mean          std     min      25%     50%      75%  \\\n",
       "event                                                                           \n",
       "cobranding  398.0  3282.537688  1011.834176     0.0  2556.00  3273.0  3991.75   \n",
       "holiday     103.0  3482.242718   979.687240   684.0  2953.00  3517.0  4190.00   \n",
       "non_event   192.0  3381.697917  1000.702032   569.0  2685.75  3341.0  4050.00   \n",
       "special     292.0  3377.708904   905.760917  1024.0  2795.75  3408.0  3968.25   \n",
       "\n",
       "               max  \n",
       "event               \n",
       "cobranding  6464.0  \n",
       "holiday     5572.0  \n",
       "non_event   5893.0  \n",
       "special     6489.0  "
      ]
     },
     "execution_count": 13,
     "metadata": {},
     "output_type": "execute_result"
    }
   ],
   "source": [
    "#instore groupby event\n",
    "store.groupby(['event'])['instore'].describe()"
   ]
  },
  {
   "cell_type": "code",
   "execution_count": 14,
   "id": "e3b5b42f",
   "metadata": {},
   "outputs": [
    {
     "data": {
      "text/html": [
       "<div>\n",
       "<style scoped>\n",
       "    .dataframe tbody tr th:only-of-type {\n",
       "        vertical-align: middle;\n",
       "    }\n",
       "\n",
       "    .dataframe tbody tr th {\n",
       "        vertical-align: top;\n",
       "    }\n",
       "\n",
       "    .dataframe thead th {\n",
       "        text-align: right;\n",
       "    }\n",
       "</style>\n",
       "<table border=\"1\" class=\"dataframe\">\n",
       "  <thead>\n",
       "    <tr style=\"text-align: right;\">\n",
       "      <th></th>\n",
       "      <th>count</th>\n",
       "      <th>mean</th>\n",
       "      <th>std</th>\n",
       "      <th>min</th>\n",
       "      <th>25%</th>\n",
       "      <th>50%</th>\n",
       "      <th>75%</th>\n",
       "      <th>max</th>\n",
       "    </tr>\n",
       "    <tr>\n",
       "      <th>event</th>\n",
       "      <th></th>\n",
       "      <th></th>\n",
       "      <th></th>\n",
       "      <th></th>\n",
       "      <th></th>\n",
       "      <th></th>\n",
       "      <th></th>\n",
       "      <th></th>\n",
       "    </tr>\n",
       "  </thead>\n",
       "  <tbody>\n",
       "    <tr>\n",
       "      <th>cobranding</th>\n",
       "      <td>398.0</td>\n",
       "      <td>11.062814</td>\n",
       "      <td>2.976579</td>\n",
       "      <td>4.0</td>\n",
       "      <td>9.0</td>\n",
       "      <td>11.0</td>\n",
       "      <td>13.0</td>\n",
       "      <td>20.0</td>\n",
       "    </tr>\n",
       "    <tr>\n",
       "      <th>holiday</th>\n",
       "      <td>103.0</td>\n",
       "      <td>10.825243</td>\n",
       "      <td>3.270268</td>\n",
       "      <td>0.0</td>\n",
       "      <td>9.0</td>\n",
       "      <td>11.0</td>\n",
       "      <td>13.0</td>\n",
       "      <td>20.0</td>\n",
       "    </tr>\n",
       "    <tr>\n",
       "      <th>non_event</th>\n",
       "      <td>192.0</td>\n",
       "      <td>10.895833</td>\n",
       "      <td>2.912257</td>\n",
       "      <td>3.0</td>\n",
       "      <td>9.0</td>\n",
       "      <td>11.0</td>\n",
       "      <td>13.0</td>\n",
       "      <td>17.0</td>\n",
       "    </tr>\n",
       "    <tr>\n",
       "      <th>special</th>\n",
       "      <td>292.0</td>\n",
       "      <td>11.226027</td>\n",
       "      <td>3.133393</td>\n",
       "      <td>3.0</td>\n",
       "      <td>9.0</td>\n",
       "      <td>11.0</td>\n",
       "      <td>13.0</td>\n",
       "      <td>24.0</td>\n",
       "    </tr>\n",
       "  </tbody>\n",
       "</table>\n",
       "</div>"
      ],
      "text/plain": [
       "            count       mean       std  min  25%   50%   75%   max\n",
       "event                                                             \n",
       "cobranding  398.0  11.062814  2.976579  4.0  9.0  11.0  13.0  20.0\n",
       "holiday     103.0  10.825243  3.270268  0.0  9.0  11.0  13.0  20.0\n",
       "non_event   192.0  10.895833  2.912257  3.0  9.0  11.0  13.0  17.0\n",
       "special     292.0  11.226027  3.133393  3.0  9.0  11.0  13.0  24.0"
      ]
     },
     "execution_count": 14,
     "metadata": {},
     "output_type": "execute_result"
    }
   ],
   "source": [
    "#person groupby event\n",
    "store.groupby(['event'])['person'].describe()"
   ]
  },
  {
   "cell_type": "code",
   "execution_count": 46,
   "id": "a6f8ad7b",
   "metadata": {},
   "outputs": [
    {
     "data": {
      "text/html": [
       "<div>\n",
       "<style scoped>\n",
       "    .dataframe tbody tr th:only-of-type {\n",
       "        vertical-align: middle;\n",
       "    }\n",
       "\n",
       "    .dataframe tbody tr th {\n",
       "        vertical-align: top;\n",
       "    }\n",
       "\n",
       "    .dataframe thead th {\n",
       "        text-align: right;\n",
       "    }\n",
       "</style>\n",
       "<table border=\"1\" class=\"dataframe\">\n",
       "  <thead>\n",
       "    <tr style=\"text-align: right;\">\n",
       "      <th></th>\n",
       "      <th>revenue</th>\n",
       "      <th>reach</th>\n",
       "      <th>local_tv</th>\n",
       "      <th>online</th>\n",
       "      <th>instore</th>\n",
       "      <th>person</th>\n",
       "      <th>event_cobranding</th>\n",
       "      <th>event_holiday</th>\n",
       "      <th>event_non_event</th>\n",
       "      <th>event_special</th>\n",
       "    </tr>\n",
       "  </thead>\n",
       "  <tbody>\n",
       "    <tr>\n",
       "      <th>845</th>\n",
       "      <td>45860.28</td>\n",
       "      <td>2</td>\n",
       "      <td>31694.91</td>\n",
       "      <td>2115</td>\n",
       "      <td>3296</td>\n",
       "      <td>8</td>\n",
       "      <td>0</td>\n",
       "      <td>0</td>\n",
       "      <td>1</td>\n",
       "      <td>0</td>\n",
       "    </tr>\n",
       "    <tr>\n",
       "      <th>483</th>\n",
       "      <td>63588.23</td>\n",
       "      <td>2</td>\n",
       "      <td>35040.17</td>\n",
       "      <td>1826</td>\n",
       "      <td>2501</td>\n",
       "      <td>14</td>\n",
       "      <td>0</td>\n",
       "      <td>0</td>\n",
       "      <td>0</td>\n",
       "      <td>1</td>\n",
       "    </tr>\n",
       "    <tr>\n",
       "      <th>513</th>\n",
       "      <td>23272.69</td>\n",
       "      <td>4</td>\n",
       "      <td>30992.82</td>\n",
       "      <td>1851</td>\n",
       "      <td>2524</td>\n",
       "      <td>6</td>\n",
       "      <td>0</td>\n",
       "      <td>0</td>\n",
       "      <td>0</td>\n",
       "      <td>1</td>\n",
       "    </tr>\n",
       "    <tr>\n",
       "      <th>599</th>\n",
       "      <td>45911.23</td>\n",
       "      <td>2</td>\n",
       "      <td>29417.78</td>\n",
       "      <td>2437</td>\n",
       "      <td>3049</td>\n",
       "      <td>12</td>\n",
       "      <td>0</td>\n",
       "      <td>0</td>\n",
       "      <td>0</td>\n",
       "      <td>1</td>\n",
       "    </tr>\n",
       "    <tr>\n",
       "      <th>120</th>\n",
       "      <td>36644.23</td>\n",
       "      <td>2</td>\n",
       "      <td>35611.11</td>\n",
       "      <td>1122</td>\n",
       "      <td>1142</td>\n",
       "      <td>13</td>\n",
       "      <td>1</td>\n",
       "      <td>0</td>\n",
       "      <td>0</td>\n",
       "      <td>0</td>\n",
       "    </tr>\n",
       "  </tbody>\n",
       "</table>\n",
       "</div>"
      ],
      "text/plain": [
       "      revenue  reach  local_tv  online  instore  person  event_cobranding  \\\n",
       "845  45860.28      2  31694.91    2115     3296       8                 0   \n",
       "483  63588.23      2  35040.17    1826     2501      14                 0   \n",
       "513  23272.69      4  30992.82    1851     2524       6                 0   \n",
       "599  45911.23      2  29417.78    2437     3049      12                 0   \n",
       "120  36644.23      2  35611.11    1122     1142      13                 1   \n",
       "\n",
       "     event_holiday  event_non_event  event_special  \n",
       "845              0                1              0  \n",
       "483              0                0              1  \n",
       "513              0                0              1  \n",
       "599              0                0              1  \n",
       "120              0                0              0  "
      ]
     },
     "execution_count": 46,
     "metadata": {},
     "output_type": "execute_result"
    }
   ],
   "source": [
    "#将类别变量转化为哑变量\n",
    "store = pd.get_dummies(store)\n",
    "store.head()"
   ]
  },
  {
   "cell_type": "code",
   "execution_count": 47,
   "id": "2783b991",
   "metadata": {},
   "outputs": [
    {
     "name": "stdout",
     "output_type": "stream",
     "text": [
      "<class 'pandas.core.frame.DataFrame'>\n",
      "Int64Index: 985 entries, 845 to 26\n",
      "Data columns (total 10 columns):\n",
      " #   Column            Non-Null Count  Dtype  \n",
      "---  ------            --------------  -----  \n",
      " 0   revenue           985 non-null    float64\n",
      " 1   reach             985 non-null    int64  \n",
      " 2   local_tv          985 non-null    float64\n",
      " 3   online            985 non-null    int64  \n",
      " 4   instore           985 non-null    int64  \n",
      " 5   person            985 non-null    int64  \n",
      " 6   event_cobranding  985 non-null    uint8  \n",
      " 7   event_holiday     985 non-null    uint8  \n",
      " 8   event_non_event   985 non-null    uint8  \n",
      " 9   event_special     985 non-null    uint8  \n",
      "dtypes: float64(2), int64(4), uint8(4)\n",
      "memory usage: 57.7 KB\n"
     ]
    }
   ],
   "source": [
    "store.info()\n",
    "#确定类别变量已经转换成数字变量"
   ]
  },
  {
   "cell_type": "code",
   "execution_count": 48,
   "id": "281dcb78",
   "metadata": {},
   "outputs": [
    {
     "data": {
      "text/html": [
       "<div>\n",
       "<style scoped>\n",
       "    .dataframe tbody tr th:only-of-type {\n",
       "        vertical-align: middle;\n",
       "    }\n",
       "\n",
       "    .dataframe tbody tr th {\n",
       "        vertical-align: top;\n",
       "    }\n",
       "\n",
       "    .dataframe thead th {\n",
       "        text-align: right;\n",
       "    }\n",
       "</style>\n",
       "<table border=\"1\" class=\"dataframe\">\n",
       "  <thead>\n",
       "    <tr style=\"text-align: right;\">\n",
       "      <th></th>\n",
       "      <th>revenue</th>\n",
       "    </tr>\n",
       "  </thead>\n",
       "  <tbody>\n",
       "    <tr>\n",
       "      <th>revenue</th>\n",
       "      <td>1.000000</td>\n",
       "    </tr>\n",
       "    <tr>\n",
       "      <th>local_tv</th>\n",
       "      <td>0.588349</td>\n",
       "    </tr>\n",
       "    <tr>\n",
       "      <th>person</th>\n",
       "      <td>0.559208</td>\n",
       "    </tr>\n",
       "    <tr>\n",
       "      <th>instore</th>\n",
       "      <td>0.311739</td>\n",
       "    </tr>\n",
       "    <tr>\n",
       "      <th>online</th>\n",
       "      <td>0.171227</td>\n",
       "    </tr>\n",
       "    <tr>\n",
       "      <th>event_special</th>\n",
       "      <td>0.033752</td>\n",
       "    </tr>\n",
       "    <tr>\n",
       "      <th>event_cobranding</th>\n",
       "      <td>-0.005623</td>\n",
       "    </tr>\n",
       "    <tr>\n",
       "      <th>event_holiday</th>\n",
       "      <td>-0.016559</td>\n",
       "    </tr>\n",
       "    <tr>\n",
       "      <th>event_non_event</th>\n",
       "      <td>-0.019155</td>\n",
       "    </tr>\n",
       "    <tr>\n",
       "      <th>reach</th>\n",
       "      <td>-0.155314</td>\n",
       "    </tr>\n",
       "  </tbody>\n",
       "</table>\n",
       "</div>"
      ],
      "text/plain": [
       "                   revenue\n",
       "revenue           1.000000\n",
       "local_tv          0.588349\n",
       "person            0.559208\n",
       "instore           0.311739\n",
       "online            0.171227\n",
       "event_special     0.033752\n",
       "event_cobranding -0.005623\n",
       "event_holiday    -0.016559\n",
       "event_non_event  -0.019155\n",
       "reach            -0.155314"
      ]
     },
     "execution_count": 48,
     "metadata": {},
     "output_type": "execute_result"
    }
   ],
   "source": [
    "#相关性\n",
    "store.corr()[['revenue']].sort_values('revenue',ascending=False)\n",
    "#发现local_tv,person,instore与revenue相关度高"
   ]
  },
  {
   "cell_type": "code",
   "execution_count": 22,
   "id": "8d20bf1b",
   "metadata": {},
   "outputs": [],
   "source": [
    "#可视化分析\n",
    "import seaborn as sns\n",
    "import matplotlib.pyplot as plt\n",
    "%matplotlib inline"
   ]
  },
  {
   "cell_type": "code",
   "execution_count": 49,
   "id": "494c98ce",
   "metadata": {},
   "outputs": [
    {
     "name": "stderr",
     "output_type": "stream",
     "text": [
      "/opt/anaconda3/lib/python3.7/site-packages/seaborn/_decorators.py:43: FutureWarning: Pass the following variables as keyword args: x, y, data. From version 0.12, the only valid positional argument will be `data`, and passing other arguments without an explicit keyword will result in an error or misinterpretation.\n",
      "  FutureWarning\n"
     ]
    },
    {
     "data": {
      "text/plain": [
       "<AxesSubplot:xlabel='local_tv', ylabel='revenue'>"
      ]
     },
     "execution_count": 49,
     "metadata": {},
     "output_type": "execute_result"
    },
    {
     "data": {
      "image/png": "[encoded data removed]",
      "text/plain": [
       "<Figure size 432x288 with 1 Axes>"
      ]
     },
     "metadata": {
      "needs_background": "light"
     },
     "output_type": "display_data"
    }
   ],
   "source": [
    "#revenue on local_tv\n",
    "sns.regplot('local_tv','revenue',store)"
   ]
  },
  {
   "cell_type": "code",
   "execution_count": 27,
   "id": "d06fa889",
   "metadata": {},
   "outputs": [
    {
     "name": "stderr",
     "output_type": "stream",
     "text": [
      "/opt/anaconda3/lib/python3.7/site-packages/seaborn/_decorators.py:43: FutureWarning: Pass the following variables as keyword args: x, y, data. From version 0.12, the only valid positional argument will be `data`, and passing other arguments without an explicit keyword will result in an error or misinterpretation.\n",
      "  FutureWarning\n"
     ]
    },
    {
     "data": {
      "text/plain": [
       "<AxesSubplot:xlabel='person', ylabel='revenue'>"
      ]
     },
     "execution_count": 27,
     "metadata": {},
     "output_type": "execute_result"
    },
    {
     "data": {
      "image/png": "[encoded data removed]",
      "text/plain": [
       "<Figure size 432x288 with 1 Axes>"
      ]
     },
     "metadata": {
      "needs_background": "light"
     },
     "output_type": "display_data"
    }
   ],
   "source": [
    "#revenue on person\n",
    "sns.regplot('person','revenue',store)"
   ]
  },
  {
   "cell_type": "code",
   "execution_count": 50,
   "id": "bd641d0e",
   "metadata": {},
   "outputs": [
    {
     "name": "stderr",
     "output_type": "stream",
     "text": [
      "/opt/anaconda3/lib/python3.7/site-packages/seaborn/_decorators.py:43: FutureWarning: Pass the following variables as keyword args: x, y, data. From version 0.12, the only valid positional argument will be `data`, and passing other arguments without an explicit keyword will result in an error or misinterpretation.\n",
      "  FutureWarning\n"
     ]
    },
    {
     "data": {
      "text/plain": [
       "<AxesSubplot:xlabel='instore', ylabel='revenue'>"
      ]
     },
     "execution_count": 50,
     "metadata": {},
     "output_type": "execute_result"
    },
    {
     "data": {
      "image/png": "[encoded data removed]",
      "text/plain": [
       "<Figure size 432x288 with 1 Axes>"
      ]
     },
     "metadata": {
      "needs_background": "light"
     },
     "output_type": "display_data"
    }
   ],
   "source": [
    "#revenue on instore\n",
    "sns.regplot('instore','revenue',store)"
   ]
  },
  {
   "cell_type": "code",
   "execution_count": 51,
   "id": "64ccfd60",
   "metadata": {},
   "outputs": [],
   "source": [
    "#回归分析 \n",
    "from sklearn.linear_model import LinearRegression"
   ]
  },
  {
   "cell_type": "code",
   "execution_count": 55,
   "id": "258cd2cf",
   "metadata": {},
   "outputs": [],
   "source": [
    "#建模\n",
    "model=LinearRegression()"
   ]
  },
  {
   "cell_type": "code",
   "execution_count": 62,
   "id": "d4e5ed51",
   "metadata": {},
   "outputs": [],
   "source": [
    "#设定自变量和因变量\n",
    "y=store['revenue']\n",
    "#第一次三个 \n",
    "#x=store[['local_tv','person','instore']]\n",
    "#第二次四个 \n",
    "x=store[['local_tv','person','instore','online']]"
   ]
  },
  {
   "cell_type": "code",
   "execution_count": 63,
   "id": "eb13af05",
   "metadata": {},
   "outputs": [
    {
     "data": {
      "text/plain": [
       "LinearRegression()"
      ]
     },
     "execution_count": 63,
     "metadata": {},
     "output_type": "execute_result"
    }
   ],
   "source": [
    "model.fit(x,y)"
   ]
  },
  {
   "cell_type": "code",
   "execution_count": 58,
   "id": "4a45c884",
   "metadata": {},
   "outputs": [
    {
     "data": {
      "text/plain": [
       "array([1.75153812e+00, 2.05057495e+03, 4.09032709e+00])"
      ]
     },
     "execution_count": 58,
     "metadata": {},
     "output_type": "execute_result"
    }
   ],
   "source": [
    "#自变量系数\n",
    "model.coef_"
   ]
  },
  {
   "cell_type": "code",
   "execution_count": 59,
   "id": "d243af31",
   "metadata": {},
   "outputs": [
    {
     "data": {
      "text/plain": [
       "-52881.124390589284"
      ]
     },
     "execution_count": 59,
     "metadata": {},
     "output_type": "execute_result"
    }
   ],
   "source": [
    "#模型的截距\n",
    "model.intercept_"
   ]
  },
  {
   "cell_type": "code",
   "execution_count": 61,
   "id": "4f9775f9",
   "metadata": {},
   "outputs": [
    {
     "name": "stdout",
     "output_type": "stream",
     "text": [
      "0.7457537640646816\n",
      "5884.181391972567\n",
      "4717.894766481711\n"
     ]
    }
   ],
   "source": [
    "#模型的评估，x为‘local_tv','person','instore'\n",
    "score = model.score(x,y)\n",
    "predictions = model.predict(x)\n",
    "error = predictions - y #计算误差\n",
    "\n",
    "rmse = (error**2).mean()**0.5\n",
    "mae = abs(error).mean()\n",
    "\n",
    "print(score)\n",
    "print(rmse)\n",
    "print(mae)"
   ]
  },
  {
   "cell_type": "code",
   "execution_count": 64,
   "id": "4333e088",
   "metadata": {},
   "outputs": [
    {
     "name": "stdout",
     "output_type": "stream",
     "text": [
      "0.7703955973368737\n",
      "5591.764749669004\n",
      "4485.506383110865\n"
     ]
    }
   ],
   "source": [
    "#模型的评估，x为‘local_tv','person','instore','online'\n",
    "score = model.score(x,y)\n",
    "predictions = model.predict(x)\n",
    "error = predictions - y #计算误差\n",
    "\n",
    "rmse = (error**2).mean()**0.5\n",
    "mae = abs(error).mean()\n",
    "\n",
    "print(score)\n",
    "print(rmse)\n",
    "print(mae)"
   ]
  },
  {
   "cell_type": "code",
   "execution_count": 65,
   "id": "16d77f4d",
   "metadata": {},
   "outputs": [],
   "source": [
    "from statsmodels.formula.api import ols"
   ]
  },
  {
   "cell_type": "code",
   "execution_count": 66,
   "id": "aa60d90c",
   "metadata": {},
   "outputs": [],
   "source": [
    "x=store[['local_tv','person','instore']]   #生成自变量\n",
    "#x=store[['local_tv','person','instore','online']] \n",
    "y=store['revenue']"
   ]
  },
  {
   "cell_type": "code",
   "execution_count": 67,
   "id": "371801ba",
   "metadata": {},
   "outputs": [],
   "source": [
    "model=ols('y~x',store).fit()"
   ]
  },
  {
   "cell_type": "code",
   "execution_count": 69,
   "id": "728417e3",
   "metadata": {},
   "outputs": [
    {
     "name": "stdout",
     "output_type": "stream",
     "text": [
      "                            OLS Regression Results                            \n",
      "==============================================================================\n",
      "Dep. Variable:                      y   R-squared:                       0.746\n",
      "Model:                            OLS   Adj. R-squared:                  0.745\n",
      "Method:                 Least Squares   F-statistic:                     959.2\n",
      "Date:                Fri, 25 Mar 2022   Prob (F-statistic):          4.09e-291\n",
      "Time:                        14:18:36   Log-Likelihood:                -9947.5\n",
      "No. Observations:                 985   AIC:                         1.990e+04\n",
      "Df Residuals:                     981   BIC:                         1.992e+04\n",
      "Df Model:                           3                                         \n",
      "Covariance Type:            nonrobust                                         \n",
      "==============================================================================\n",
      "                 coef    std err          t      P>|t|      [0.025      0.975]\n",
      "------------------------------------------------------------------------------\n",
      "Intercept  -5.288e+04   1804.489    -29.305      0.000   -5.64e+04   -4.93e+04\n",
      "x[0]           1.7515      0.049     35.857      0.000       1.656       1.847\n",
      "x[1]        2050.5749     61.866     33.146      0.000    1929.171    2171.979\n",
      "x[2]           4.0903      0.193     21.229      0.000       3.712       4.468\n",
      "==============================================================================\n",
      "Omnibus:                        0.352   Durbin-Watson:                   2.056\n",
      "Prob(Omnibus):                  0.839   Jarque-Bera (JB):                0.402\n",
      "Skew:                           0.043   Prob(JB):                        0.818\n",
      "Kurtosis:                       2.951   Cond. No.                     3.05e+05\n",
      "==============================================================================\n",
      "\n",
      "Notes:\n",
      "[1] Standard Errors assume that the covariance matrix of the errors is correctly specified.\n",
      "[2] The condition number is large, 3.05e+05. This might indicate that there are\n",
      "strong multicollinearity or other numerical problems.\n"
     ]
    }
   ],
   "source": [
    "#观察coef-系数，P值显著性\n",
    "print(model.summary())"
   ]
  },
  {
   "cell_type": "code",
   "execution_count": null,
   "id": "0a3149cc",
   "metadata": {},
   "outputs": [],
   "source": []
  }
 ],
 "metadata": {
  "kernelspec": {
   "display_name": "py36",
   "language": "python",
   "name": "py36"
  },
  "language_info": {
   "codemirror_mode": {
    "name": "ipython",
    "version": 3
   },
   "file_extension": ".py",
   "mimetype": "text/x-python",
   "name": "python",
   "nbconvert_exporter": "python",
   "pygments_lexer": "ipython3",
   "version": "3.7.6"
  }
 },
 "nbformat": 4,
 "nbformat_minor": 5
}
